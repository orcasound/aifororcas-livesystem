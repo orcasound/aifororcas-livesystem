{
 "cells": [
  {
   "cell_type": "markdown",
   "metadata": {
    "heading_collapsed": true
   },
   "source": [
    "# Boiler Plate"
   ]
  },
  {
   "cell_type": "markdown",
   "metadata": {
    "nteract": {
     "transient": {
      "deleting": false
     }
    }
   },
   "source": [
    "## Installing Dependencies"
   ]
  },
  {
   "cell_type": "code",
   "execution_count": null,
   "metadata": {},
   "outputs": [],
   "source": [
    "import sys\n",
    "!{sys.executable} -m pip install -r requirements.txt"
   ]
  },
  {
   "cell_type": "markdown",
   "metadata": {
    "ExecuteTime": {
     "end_time": "2020-07-29T23:05:34.797350Z",
     "start_time": "2020-07-29T23:05:34.792218Z"
    },
    "heading_collapsed": true,
    "hidden": true
   },
   "source": [
    "## Importing libraries"
   ]
  },
  {
   "cell_type": "code",
   "execution_count": null,
   "metadata": {},
   "outputs": [],
   "source": [
    "import gc\n",
    "import librosa\n",
    "import matplotlib.pyplot as plt\n",
    "import numpy as np\n",
    "import os\n",
    "import pandas as pd\n",
    "import pathlib\n",
    "from pydub import AudioSegment\n",
    "from tqdm.notebook import tqdm_notebook\n",
    "import wave\n",
    "\n",
    "# Ensure that matplotlib-generated charts are shown in notebook\n",
    "%matplotlib inline"
   ]
  },
  {
   "cell_type": "markdown",
   "metadata": {
    "heading_collapsed": true,
    "hidden": true
   },
   "source": [
    "## Helper Functions"
   ]
  },
  {
   "cell_type": "code",
   "execution_count": null,
   "metadata": {},
   "outputs": [],
   "source": [
    "def create_possible_timeframe(max_time, space):\n",
    "    '''\n",
    "    Return a list of [startTime, endTime] proposal for negative sampling\n",
    "    '''\n",
    "    possible_time_frame = []\n",
    "    for i in np.arange(0, max_time.astype(int) - 2, space):\n",
    "        possible_time_frame.append([i, i + 2 + 3 * np.random.random()])\n",
    "    return possible_time_frame\n",
    "\n",
    "\n",
    "def overlap(x, y):\n",
    "    '''\n",
    "    A function to returning true or false indicating overlap given \n",
    "    a time duration list as compared to other list\n",
    "    '''\n",
    "    if (y[0] < x[1] < y[1]) or (y[0] < x[0] < y[1]) or (\n",
    "            x[0] < y[1] < x[1]) or (x[0] <= y[0] < x[1]):\n",
    "        return True\n",
    "    elif x == y:\n",
    "        return True\n",
    "    else:\n",
    "        return False\n",
    "\n",
    "\n",
    "def not_overlap_list(x, y_list):\n",
    "    '''\n",
    "    Given a possible time proposal return True/False indicating if there is any overlap\n",
    "    '''\n",
    "    return sum([overlap(x, y) for y in y_list]) == 0\n",
    "\n",
    "\n",
    "def not_overlap_list_x_list(x_list, y_list):\n",
    "    '''\n",
    "    Function to returning a list of x_list with no overlaps from y_list\n",
    "    '''\n",
    "    return list(\n",
    "        pd.Series(x_list)[[not_overlap_list(x, y_list) for x in x_list]])\n",
    "\n",
    "\n",
    "def get_wave_file(wav_file):\n",
    "    '''\n",
    "    Function to load a wav file\n",
    "    '''\n",
    "    return AudioSegment.from_wav(wav_file)\n",
    "\n",
    "\n",
    "def export_wave_file(audio, begin, end, dest):\n",
    "    '''\n",
    "    Function to extract a smaller wav file based start and end duration information\n",
    "    '''\n",
    "    sub_audio = audio[begin * 1000:end * 1000]\n",
    "    sub_audio.export(dest, format=\"wav\")\n",
    "\n",
    "\n",
    "def extract_segments(audioPath, sampleDict, destnPath, suffix):\n",
    "    '''\n",
    "    Function to exctact segments given a audio path folder and proposal segments\n",
    "    '''\n",
    "    # Listing the local audio files\n",
    "    local_audio_files = audioPath\n",
    "    for wav_file in tqdm_notebook(sampleDict.keys(), desc='outerloop'):\n",
    "        audio_file = get_wave_file(local_audio_files + wav_file)\n",
    "        for begin_time, end_time in sampleDict[wav_file]:\n",
    "            output_file_name = wav_file.lower().replace(\n",
    "                '.wav', '') + '_' + str(begin_time) + '_' + str(\n",
    "                    end_time) + suffix + '.wav'\n",
    "            output_file_path = destnPath + output_file_name\n",
    "            export_wave_file(audio_file, begin_time, end_time,\n",
    "                             output_file_path)"
   ]
  },
  {
   "cell_type": "markdown",
   "metadata": {
    "heading_collapsed": true
   },
   "source": [
    "# Training"
   ]
  },
  {
   "cell_type": "markdown",
   "metadata": {
    "heading_collapsed": true,
    "hidden": true
   },
   "source": [
    "##  Reading Data from WHOIs"
   ]
  },
  {
   "cell_type": "markdown",
   "metadata": {
    "hidden": true
   },
   "source": [
    "**Reading the metadata from WHOIS dataset and creating positive time proposals for audio segmentation**"
   ]
  },
  {
   "cell_type": "code",
   "execution_count": null,
   "metadata": {},
   "outputs": [],
   "source": [
    "df_ts = pd.read_csv('./data/train/train_data_09222019/train.tsv', sep='\\t')\n",
    "df_ts = df_ts.loc[df_ts.duration_s > 1,:].reset_index(drop=True)\n",
    "df_ts['begin_time'] = np.floor(df_ts['start_time_s'])\n",
    "df_ts['end_time'] = np.ceil(df_ts.start_time_s + df_ts.duration_s)\n",
    "df_ts['time_frame'] = df_ts.apply(lambda row : [row['begin_time'],row['end_time']],axis=1)\n",
    "df_timeframe = df_ts.groupby(['wav_filename'])['time_frame'].apply(list)\n",
    "df_timeframe_max = df_ts.groupby(['wav_filename'])['end_time'].max()\n",
    "df_ts.head()"
   ]
  },
  {
   "cell_type": "markdown",
   "metadata": {
    "hidden": true
   },
   "source": [
    "**Creating a dictionary of negative sample time proposals for noise file creation**"
   ]
  },
  {
   "cell_type": "code",
   "execution_count": null,
   "metadata": {},
   "outputs": [],
   "source": [
    "negative_sample_dict = {}\n",
    "for idx in df_timeframe.index:\n",
    "    negative_sample_dict[idx] = not_overlap_list_x_list(\n",
    "        create_possible_timeframe(df_timeframe_max[idx],1), \n",
    "        df_timeframe[idx]\n",
    "    )"
   ]
  },
  {
   "cell_type": "code",
   "execution_count": null,
   "metadata": {},
   "outputs": [],
   "source": [
    "a = 0\n",
    "for key in negative_sample_dict.keys(): a+=len(negative_sample_dict[key])\n",
    "a"
   ]
  },
  {
   "cell_type": "markdown",
   "metadata": {
    "hidden": true
   },
   "source": [
    "**Extracting the negative sample wav files and putting it in the input negative sample data folder for ML modeling**"
   ]
  },
  {
   "cell_type": "code",
   "execution_count": null,
   "metadata": {},
   "outputs": [],
   "source": [
    "extract_segments(\n",
    "    './data/train/train_data_09222019/wav/', \n",
    "    negative_sample_dict, \n",
    "    './data/train/mldata/all/negative/',\n",
    "    \"_Noise\"\n",
    ")"
   ]
  },
  {
   "cell_type": "markdown",
   "metadata": {
    "ExecuteTime": {
     "end_time": "2020-07-30T23:17:34.364321Z",
     "start_time": "2020-07-30T23:17:34.356340Z"
    },
    "hidden": true
   },
   "source": [
    "**Creating a dictionary of positive sample time proposals for noise file creation**"
   ]
  },
  {
   "cell_type": "code",
   "execution_count": null,
   "metadata": {},
   "outputs": [],
   "source": [
    "positive_sample_dict = {}\n",
    "for idx, key in enumerate(df_timeframe.index):\n",
    "    positive_sample_dict[key] = df_timeframe[idx]"
   ]
  },
  {
   "cell_type": "code",
   "execution_count": null,
   "metadata": {},
   "outputs": [],
   "source": [
    "a = 0\n",
    "for key in positive_sample_dict.keys(): a+=len(positive_sample_dict[key])\n",
    "a"
   ]
  },
  {
   "cell_type": "markdown",
   "metadata": {
    "ExecuteTime": {
     "end_time": "2020-07-30T23:20:32.342217Z",
     "start_time": "2020-07-30T23:20:32.333243Z"
    },
    "hidden": true
   },
   "source": [
    "**Extracting the positive sample wav files and putting it in the input positive sample data folder for ML modeling**"
   ]
  },
  {
   "cell_type": "code",
   "execution_count": null,
   "metadata": {},
   "outputs": [],
   "source": [
    "extract_segments(\n",
    "    './data/train/train_data_09222019/wav/', \n",
    "    positive_sample_dict, \n",
    "    './data/train/mldata/all/positive/',\n",
    "    \"_call\"\n",
    ")"
   ]
  },
  {
   "cell_type": "markdown",
   "metadata": {
    "heading_collapsed": true,
    "hidden": true
   },
   "source": [
    "## Reading Podcast Round 2"
   ]
  },
  {
   "cell_type": "markdown",
   "metadata": {
    "ExecuteTime": {
     "end_time": "2020-07-30T23:20:56.784431Z",
     "start_time": "2020-07-30T23:20:56.777450Z"
    },
    "hidden": true
   },
   "source": [
    "**Reading the metadata from Round 2 dataset and creating positive time proposals for audio segmentation**"
   ]
  },
  {
   "cell_type": "code",
   "execution_count": null,
   "metadata": {},
   "outputs": [],
   "source": [
    "df_ts = pd.read_csv('./data/train/Round2_OS_07_05/train.tsv', sep='\\t')\n",
    "df_ts = df_ts.loc[df_ts.duration_s > 1,:].reset_index(drop=True)\n",
    "df_ts['begin_time'] = np.floor(df_ts['start_time_s'])\n",
    "df_ts['end_time'] = np.ceil(df_ts.start_time_s + df_ts.duration_s)\n",
    "df_ts['time_frame'] = df_ts.apply(lambda row : [row['begin_time'],row['end_time']],axis=1)\n",
    "df_timeframe = df_ts.groupby(['wav_filename'])['time_frame'].apply(list)\n",
    "df_timeframe_max = df_ts.groupby(['wav_filename'])['end_time'].max()"
   ]
  },
  {
   "cell_type": "markdown",
   "metadata": {
    "ExecuteTime": {
     "end_time": "2020-07-30T23:21:45.326853Z",
     "start_time": "2020-07-30T23:21:45.297344Z"
    },
    "hidden": true
   },
   "source": [
    "**Creating a dictionary of positive sample time proposals for noise file creation**"
   ]
  },
  {
   "cell_type": "code",
   "execution_count": null,
   "metadata": {},
   "outputs": [],
   "source": [
    "positive_sample_dict = {}\n",
    "for idx, key in enumerate(df_timeframe.index):\n",
    "    positive_sample_dict[key] = df_timeframe[idx]"
   ]
  },
  {
   "cell_type": "code",
   "execution_count": null,
   "metadata": {},
   "outputs": [],
   "source": [
    "a = 0\n",
    "for key in positive_sample_dict.keys(): a+=len(positive_sample_dict[key])\n",
    "a"
   ]
  },
  {
   "cell_type": "markdown",
   "metadata": {
    "hidden": true
   },
   "source": [
    "**Extracting the positive sample wav files and putting it in the input positive sample data folder for ML modeling**"
   ]
  },
  {
   "cell_type": "code",
   "execution_count": null,
   "metadata": {},
   "outputs": [],
   "source": [
    "extract_segments(\n",
    "    './data/train/Round2_OS_07_05/wav/', \n",
    "    positive_sample_dict, \n",
    "    './data/train/mldata/all/positive/',\n",
    "    \"_call\"\n",
    ")"
   ]
  },
  {
   "cell_type": "markdown",
   "metadata": {
    "hidden": true
   },
   "source": [
    "**Creating a dictionary of negative sample time proposals for noise file creation**"
   ]
  },
  {
   "cell_type": "code",
   "execution_count": null,
   "metadata": {},
   "outputs": [],
   "source": [
    "negative_sample_dict = {}\n",
    "for idx in df_timeframe.index:\n",
    "    negative_sample_dict[idx] = not_overlap_list_x_list(\n",
    "        create_possible_timeframe(df_timeframe_max[idx],1), \n",
    "        df_timeframe[idx]\n",
    "    )"
   ]
  },
  {
   "cell_type": "code",
   "execution_count": null,
   "metadata": {},
   "outputs": [],
   "source": [
    "a = 0\n",
    "for key in negative_sample_dict.keys(): a+=len(negative_sample_dict[key])\n",
    "a"
   ]
  },
  {
   "cell_type": "markdown",
   "metadata": {
    "hidden": true
   },
   "source": [
    "**Extracting the negative sample wav files and putting it in the input negative sample data folder for ML modeling**"
   ]
  },
  {
   "cell_type": "code",
   "execution_count": null,
   "metadata": {},
   "outputs": [],
   "source": [
    "extract_segments(\n",
    "    './data/train/Round2_OS_07_05/wav/', \n",
    "    negative_sample_dict, \n",
    "    './data/train/mldata/all/negative/',\n",
    "    \"_call\"\n",
    ")"
   ]
  },
  {
   "cell_type": "markdown",
   "metadata": {
    "heading_collapsed": true,
    "hidden": true
   },
   "source": [
    "## Reading Podcast Round 3"
   ]
  },
  {
   "cell_type": "markdown",
   "metadata": {
    "hidden": true
   },
   "source": [
    "**Reading the metadata from Round 3 dataset and creating positive time proposals for audio segmentation**"
   ]
  },
  {
   "cell_type": "code",
   "execution_count": null,
   "metadata": {},
   "outputs": [],
   "source": [
    "df_ts = pd.read_csv('./data/train/Round3_OS_09_27_2017/train.tsv', sep='\\t')\n",
    "df_ts = df_ts.loc[df_ts.duration_s > 1,:].reset_index(drop=True)\n",
    "df_ts['begin_time'] = np.floor(df_ts['start_time_s'])\n",
    "df_ts['end_time'] = np.ceil(df_ts.start_time_s + df_ts.duration_s)\n",
    "df_ts['time_frame'] = df_ts.apply(lambda row : [row['begin_time'],row['end_time']],axis=1)\n",
    "df_timeframe = df_ts.groupby(['wav_filename'])['time_frame'].apply(list)\n",
    "df_timeframe_max = df_ts.groupby(['wav_filename'])['end_time'].max()"
   ]
  },
  {
   "cell_type": "code",
   "execution_count": null,
   "metadata": {},
   "outputs": [],
   "source": [
    "df_ts.head()"
   ]
  },
  {
   "cell_type": "markdown",
   "metadata": {
    "ExecuteTime": {
     "end_time": "2020-07-30T23:21:45.326853Z",
     "start_time": "2020-07-30T23:21:45.297344Z"
    },
    "hidden": true
   },
   "source": [
    "**Creating a dictionary of positive sample time proposals for noise file creation**"
   ]
  },
  {
   "cell_type": "code",
   "execution_count": null,
   "metadata": {},
   "outputs": [],
   "source": [
    "positive_sample_dict = {}\n",
    "for idx, key in enumerate(df_timeframe.index):\n",
    "    positive_sample_dict[key] = df_timeframe[idx]"
   ]
  },
  {
   "cell_type": "code",
   "execution_count": null,
   "metadata": {},
   "outputs": [],
   "source": [
    "a = 0\n",
    "for key in positive_sample_dict.keys(): a+=len(positive_sample_dict[key])\n",
    "a"
   ]
  },
  {
   "cell_type": "markdown",
   "metadata": {
    "hidden": true
   },
   "source": [
    "**Extracting the positive sample wav files and putting it in the input positive sample data folder for ML modeling**"
   ]
  },
  {
   "cell_type": "code",
   "execution_count": null,
   "metadata": {},
   "outputs": [],
   "source": [
    "extract_segments(\n",
    "    './data/train/Round3_OS_09_27_2017/wav/', \n",
    "    positive_sample_dict, \n",
    "    './data/train/mldata/all/positive/',\n",
    "    \"_call\"\n",
    ")"
   ]
  },
  {
   "cell_type": "markdown",
   "metadata": {
    "hidden": true
   },
   "source": [
    "**Creating a dictionary of negative sample time proposals for noise file creation**"
   ]
  },
  {
   "cell_type": "code",
   "execution_count": null,
   "metadata": {},
   "outputs": [],
   "source": [
    "negative_sample_dict = {}\n",
    "for idx in df_timeframe.index:\n",
    "    negative_sample_dict[idx] = not_overlap_list_x_list(\n",
    "        create_possible_timeframe(df_timeframe_max[idx],1), \n",
    "        df_timeframe[idx]\n",
    "    )"
   ]
  },
  {
   "cell_type": "code",
   "execution_count": null,
   "metadata": {},
   "outputs": [],
   "source": [
    "a = 0\n",
    "for key in negative_sample_dict.keys(): a+=len(negative_sample_dict[key])\n",
    "a"
   ]
  },
  {
   "cell_type": "markdown",
   "metadata": {
    "hidden": true
   },
   "source": [
    "**Extracting the negative sample wav files and putting it in the input negative sample data folder for ML modeling**"
   ]
  },
  {
   "cell_type": "code",
   "execution_count": null,
   "metadata": {},
   "outputs": [],
   "source": [
    "extract_segments(\n",
    "    './data/train/Round3_OS_09_27_2017/wav/', \n",
    "    negative_sample_dict, \n",
    "    './data/train/mldata/all/negative/',\n",
    "    \"_call\"\n",
    ")"
   ]
  },
  {
   "cell_type": "markdown",
   "metadata": {
    "heading_collapsed": true
   },
   "source": [
    "# Test"
   ]
  },
  {
   "cell_type": "markdown",
   "metadata": {
    "ExecuteTime": {
     "end_time": "2020-07-30T23:38:11.885463Z",
     "start_time": "2020-07-30T23:38:11.870360Z"
    },
    "hidden": true
   },
   "source": [
    "**This part of code is to just generate test for initial evaluation, not for official evaluation**"
   ]
  },
  {
   "cell_type": "markdown",
   "metadata": {
    "heading_collapsed": true,
    "hidden": true
   },
   "source": [
    "## OrcasoundLab07052019_Test"
   ]
  },
  {
   "cell_type": "markdown",
   "metadata": {
    "hidden": true
   },
   "source": [
    "**Reading the metadata from Round 2 testing dataset and creating positive time proposals for audio segmentation**"
   ]
  },
  {
   "cell_type": "code",
   "execution_count": null,
   "metadata": {},
   "outputs": [],
   "source": [
    "df_ts = pd.read_csv('./data/test/OrcasoundLab07052019_Test/test.tsv', sep='\\t')\n",
    "df_ts = df_ts.loc[df_ts.duration_s > 1,:].reset_index(drop=True)\n",
    "df_ts['begin_time'] = np.floor(df_ts['start_time_s'])\n",
    "df_ts['end_time'] = np.ceil(df_ts.start_time_s + df_ts.duration_s)\n",
    "df_ts['time_frame'] = df_ts.apply(lambda row : [row['begin_time'],row['end_time']],axis=1)\n",
    "df_timeframe = df_ts.groupby(['wav_filename'])['time_frame'].apply(list)\n",
    "df_timeframe_max = df_ts.groupby(['wav_filename'])['end_time'].max()"
   ]
  },
  {
   "cell_type": "code",
   "execution_count": null,
   "metadata": {},
   "outputs": [],
   "source": [
    "df_ts.head()"
   ]
  },
  {
   "cell_type": "markdown",
   "metadata": {
    "ExecuteTime": {
     "end_time": "2020-07-30T23:21:45.326853Z",
     "start_time": "2020-07-30T23:21:45.297344Z"
    },
    "hidden": true
   },
   "source": [
    "**Creating a dictionary of positive sample time proposals for noise file creation**"
   ]
  },
  {
   "cell_type": "code",
   "execution_count": null,
   "metadata": {},
   "outputs": [],
   "source": [
    "positive_sample_dict = {}\n",
    "for idx, key in enumerate(df_timeframe.index):\n",
    "    positive_sample_dict[key] = df_timeframe[idx]"
   ]
  },
  {
   "cell_type": "code",
   "execution_count": null,
   "metadata": {},
   "outputs": [],
   "source": [
    "a = 0\n",
    "for key in positive_sample_dict.keys(): a+=len(positive_sample_dict[key])\n",
    "a"
   ]
  },
  {
   "cell_type": "markdown",
   "metadata": {
    "hidden": true
   },
   "source": [
    "**Extracting the positive sample wav files and putting it in the input positive sample data folder for ML modeling**"
   ]
  },
  {
   "cell_type": "code",
   "execution_count": null,
   "metadata": {},
   "outputs": [],
   "source": [
    "extract_segments(\n",
    "    './data/test/OrcasoundLab07052019_Test/wav/', \n",
    "    positive_sample_dict, \n",
    "    './data/test/all/positive/',\n",
    "    \"_call\"\n",
    ")"
   ]
  },
  {
   "cell_type": "markdown",
   "metadata": {
    "hidden": true
   },
   "source": [
    "**Creating a dictionary of negative sample time proposals for noise file creation**"
   ]
  },
  {
   "cell_type": "code",
   "execution_count": null,
   "metadata": {},
   "outputs": [],
   "source": [
    "negative_sample_dict = {}\n",
    "for idx in df_timeframe.index:\n",
    "    negative_sample_dict[idx] = not_overlap_list_x_list(\n",
    "        create_possible_timeframe(df_timeframe_max[idx],1), \n",
    "        df_timeframe[idx]\n",
    "    )"
   ]
  },
  {
   "cell_type": "code",
   "execution_count": null,
   "metadata": {},
   "outputs": [],
   "source": [
    "a = 0\n",
    "for key in negative_sample_dict.keys(): a+=len(negative_sample_dict[key])\n",
    "a"
   ]
  },
  {
   "cell_type": "markdown",
   "metadata": {
    "hidden": true
   },
   "source": [
    "**Extracting the negative sample wav files and putting it in the input negative sample data folder for ML modeling**"
   ]
  },
  {
   "cell_type": "code",
   "execution_count": null,
   "metadata": {},
   "outputs": [],
   "source": [
    "extract_segments(\n",
    "    './data/test/OrcasoundLab07052019_Test/wav/', \n",
    "    negative_sample_dict, \n",
    "    './data/test/all/negative/',\n",
    "    \"_call\"\n",
    ")"
   ]
  },
  {
   "cell_type": "markdown",
   "metadata": {
    "heading_collapsed": true,
    "hidden": true
   },
   "source": [
    "## OrcasoundLab09272017_Test"
   ]
  },
  {
   "cell_type": "markdown",
   "metadata": {
    "hidden": true
   },
   "source": [
    "**Reading the metadata from Round 3 testing dataset and creating positive time proposals for audio segmentation**"
   ]
  },
  {
   "cell_type": "code",
   "execution_count": null,
   "metadata": {},
   "outputs": [],
   "source": [
    "df_ts = pd.read_csv('./data/test/OrcasoundLab09272017_Test/test.tsv', sep='\\t')\n",
    "df_ts = df_ts.loc[df_ts.duration_s > 1,:].reset_index(drop=True)\n",
    "df_ts['begin_time'] = np.floor(df_ts['start_time_s'])\n",
    "df_ts['end_time'] = np.ceil(df_ts.start_time_s + df_ts.duration_s)\n",
    "df_ts['time_frame'] = df_ts.apply(lambda row : [row['begin_time'],row['end_time']],axis=1)\n",
    "df_timeframe = df_ts.groupby(['wav_filename'])['time_frame'].apply(list)\n",
    "df_timeframe_max = df_ts.groupby(['wav_filename'])['end_time'].max()"
   ]
  },
  {
   "cell_type": "code",
   "execution_count": null,
   "metadata": {},
   "outputs": [],
   "source": [
    "df_ts.head()"
   ]
  },
  {
   "cell_type": "markdown",
   "metadata": {
    "ExecuteTime": {
     "end_time": "2020-07-30T23:21:45.326853Z",
     "start_time": "2020-07-30T23:21:45.297344Z"
    },
    "hidden": true
   },
   "source": [
    "**Creating a dictionary of positive sample time proposals for noise file creation**"
   ]
  },
  {
   "cell_type": "code",
   "execution_count": null,
   "metadata": {},
   "outputs": [],
   "source": [
    "positive_sample_dict = {}\n",
    "for idx, key in enumerate(df_timeframe.index):\n",
    "    positive_sample_dict[key] = df_timeframe[idx]"
   ]
  },
  {
   "cell_type": "code",
   "execution_count": null,
   "metadata": {},
   "outputs": [],
   "source": [
    "a = 0\n",
    "for key in positive_sample_dict.keys(): a+=len(positive_sample_dict[key])\n",
    "a"
   ]
  },
  {
   "cell_type": "markdown",
   "metadata": {
    "hidden": true
   },
   "source": [
    "**Extracting the positive sample wav files and putting it in the input positive sample data folder for ML modeling**"
   ]
  },
  {
   "cell_type": "code",
   "execution_count": null,
   "metadata": {},
   "outputs": [],
   "source": [
    "extract_segments(\n",
    "    './data/test/OrcasoundLab09272017_Test/wav/', \n",
    "    positive_sample_dict, \n",
    "    './data/test/all/positive/',\n",
    "    \"_call\"\n",
    ")"
   ]
  },
  {
   "cell_type": "markdown",
   "metadata": {
    "hidden": true
   },
   "source": [
    "**Creating a dictionary of negative sample time proposals for noise file creation**"
   ]
  },
  {
   "cell_type": "code",
   "execution_count": null,
   "metadata": {},
   "outputs": [],
   "source": [
    "negative_sample_dict = {}\n",
    "for idx in df_timeframe.index:\n",
    "    negative_sample_dict[idx] = not_overlap_list_x_list(\n",
    "        create_possible_timeframe(df_timeframe_max[idx],1), \n",
    "        df_timeframe[idx]\n",
    "    )"
   ]
  },
  {
   "cell_type": "code",
   "execution_count": null,
   "metadata": {},
   "outputs": [],
   "source": [
    "a = 0\n",
    "for key in negative_sample_dict.keys(): a+=len(negative_sample_dict[key])\n",
    "a"
   ]
  },
  {
   "cell_type": "markdown",
   "metadata": {
    "hidden": true
   },
   "source": [
    "**Extracting the negative sample wav files and putting it in the input negative sample data folder for ML modeling**"
   ]
  },
  {
   "cell_type": "code",
   "execution_count": null,
   "metadata": {},
   "outputs": [],
   "source": [
    "extract_segments(\n",
    "    './data/test/OrcasoundLab09272017_Test/wav/', \n",
    "    negative_sample_dict, \n",
    "    './data/test/all/negative/',\n",
    "    \"_call\"\n",
    ")"
   ]
  },
  {
   "cell_type": "code",
   "execution_count": null,
   "metadata": {},
   "outputs": [],
   "source": [
    "# Generating wav for scoring"
   ]
  },
  {
   "cell_type": "markdown",
   "metadata": {},
   "source": [
    "**This part of code is to just 2 sec clips from our testing file for final scoring for official evaluation**"
   ]
  },
  {
   "cell_type": "markdown",
   "metadata": {
    "ExecuteTime": {
     "end_time": "2020-07-30T15:32:51.067480Z",
     "start_time": "2020-07-30T15:32:51.062493Z"
    },
    "heading_collapsed": true
   },
   "source": [
    "## OrcasoundLab07052019_Test"
   ]
  },
  {
   "cell_type": "code",
   "execution_count": null,
   "metadata": {},
   "outputs": [],
   "source": [
    "## Finding the maximum duration of the test wav file\n",
    "max_length = librosa.get_duration(filename=\"./data/test/OrcasoundLab07052019_Test/wav/OS_7_05_2019_08_24_00_.wav\")"
   ]
  },
  {
   "cell_type": "code",
   "execution_count": null,
   "metadata": {},
   "outputs": [],
   "source": [
    "## Generating 2 sec proposal with 1 sec hop length\n",
    "twoSecList = []\n",
    "for i in range(int(np.floor(max_length)-1)):\n",
    "    twoSecList.append([i, i+2])"
   ]
  },
  {
   "cell_type": "code",
   "execution_count": null,
   "metadata": {},
   "outputs": [],
   "source": [
    "# Creating a proposal dictionary\n",
    "two_sec_dict = {}\n",
    "two_sec_dict['OS_7_05_2019_08_24_00_.wav'] = twoSecList"
   ]
  },
  {
   "cell_type": "markdown",
   "metadata": {
    "ExecuteTime": {
     "end_time": "2020-07-30T23:48:53.283048Z",
     "start_time": "2020-07-30T23:48:53.274472Z"
    },
    "hidden": true
   },
   "source": [
    "**Extrating 2 sec samples from test file for official evaluation**"
   ]
  },
  {
   "cell_type": "code",
   "execution_count": null,
   "metadata": {},
   "outputs": [],
   "source": [
    "extract_segments(\n",
    "    './data/test/OrcasoundLab07052019_Test/wav/', \n",
    "    two_sec_dict, \n",
    "    './data/test/OrcasoundLab07052019_Test/test2Sec/',\n",
    "    \"\"\n",
    ")"
   ]
  },
  {
   "cell_type": "markdown",
   "metadata": {
    "nteract": {
     "transient": {
      "deleting": false
     }
    }
   },
   "source": [
    "# Deleting Empty .wav Files"
   ]
  },
  {
   "cell_type": "code",
   "execution_count": null,
   "metadata": {},
   "outputs": [],
   "source": [
    "import os\n",
    "import librosa\n",
    "import pathlib\n",
    "\n",
    "# Delete all 0-length wav files in generated sample set\n",
    "def delete_empty_wav_files(directory_path):\n",
    "  try:\n",
    "    with os.scandir(directory_path) as file_iterator:\n",
    "      file_list = [f for f in file_iterator]\n",
    "      for entry in tqdm_notebook(\n",
    "        file_list, \n",
    "        desc=f'Check .wav files in {directory_path} for zero-length'\n",
    "      ):\n",
    "        if entry.is_file() and \\\n",
    "          pathlib.Path(entry.path).suffix == '.wav' and \\\n",
    "          librosa.get_duration(path=f\"{entry.path}\") == 0.0:\n",
    "          print(f\"{entry.path} is 0s long. Deleting...\")\n",
    "          os.unlink(entry.path)\n",
    "  except OSError:\n",
    "    print(\"Error occurred while deleting files.\")\n",
    "\n",
    "# Delete 0-length wav files in each sample directory\n",
    "delete_empty_wav_files('data/train/mldata/all/positive')\n",
    "delete_empty_wav_files('data/train/mldata/all/negative')"
   ]
  }
 ],
 "metadata": {
  "language_info": {
   "name": "python"
  }
 },
 "nbformat": 4,
 "nbformat_minor": 2
}

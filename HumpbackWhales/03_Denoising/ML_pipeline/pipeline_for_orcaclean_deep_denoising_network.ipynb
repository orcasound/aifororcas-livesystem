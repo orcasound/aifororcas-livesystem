{
  "cells": [
    {
      "cell_type": "markdown",
      "metadata": {},
      "source": [
        "# Pipeline for ORCA-CLEAN Deep Denoizing Network\n",
        "\n",
        "**Requirements** - In order to run this notebook, you will need:\n",
        "- A basic understanding of Machine Learning\n",
        "- An Azure account with an active subscription - [Create an account for free](https://azure.microsoft.com/free/?WT.mc_id=A261C142F)\n",
        "- An Azure ML workspace with computer cluster - [Configure workspace](../../configuration.ipynb)\n",
        "- A python environment\n",
        "- Installed Azure Machine Learning Python SDK v2 - [install instructions](../../../README.md) - check the getting started section"
      ]
    },
    {
      "cell_type": "markdown",
      "metadata": {},
      "source": [
        "# 1. Connect to Azure Machine Learning Workspace\n",
        "\n",
        "The [workspace](https://docs.microsoft.com/en-us/azure/machine-learning/concept-workspace) is the top-level resource for Azure Machine Learning, providing a centralized place to work with all the artifacts you create when you use Azure Machine Learning. In this section we will connect to the workspace in which the job will be run.\n",
        "\n",
        "## 1.1 Import the required libraries"
      ]
    },
    {
      "cell_type": "code",
      "execution_count": null,
      "metadata": {
        "gather": {
          "logged": 1695994756296
        }
      },
      "outputs": [],
      "source": [
        "import datetime\n",
        "\n",
        "from azure.identity import DefaultAzureCredential, InteractiveBrowserCredential, EnvironmentCredential, AzureCliCredential\n",
        "\n",
        "from azure.ai.ml import MLClient, Input, Output\n",
        "from azure.ai.ml.dsl import pipeline\n",
        "from azure.ai.ml import load_component\n",
        "from azure.ai.ml.entities import AmlCompute, Environment, Model, Data\n",
        "from azure.ai.ml.constants import AssetTypes\n",
        "import os"
      ]
    },
    {
      "cell_type": "markdown",
      "metadata": {},
      "source": [
        "## 1.2 Configure credential\n",
        "\n",
        "We are using `DefaultAzureCredential` to get access to workspace. \n",
        "`DefaultAzureCredential` should be capable of handling most Azure SDK authentication scenarios. \n",
        "\n",
        "Reference for more available credentials if it does not work for you: [configure credential example](../../configuration.ipynb), [azure-identity reference doc](https://docs.microsoft.com/en-us/python/api/azure-identity/azure.identity?view=azure-python)."
      ]
    },
    {
      "cell_type": "markdown",
      "metadata": {},
      "source": []
    },
    {
      "cell_type": "code",
      "execution_count": null,
      "metadata": {
        "gather": {
          "logged": 1695994760367
        }
      },
      "outputs": [],
      "source": [
        "try:\n",
        "    credential = DefaultAzureCredential()\n",
        "    # Check if given credential can get token successfully.\n",
        "    credential.get_token(\"https://management.azure.com/.default\")\n",
        "except Exception as ex:\n",
        "    # Fall back to InteractiveBrowserCredential in case DefaultAzureCredential not work\n",
        "    credential = InteractiveBrowserCredential(tenant_id=\"16b3c013-d300-468d-ac64-7eda0820b6d3\")"
      ]
    },
    {
      "cell_type": "markdown",
      "metadata": {},
      "source": [
        "## 1.3 Get a handle to the workspace\n",
        "\n",
        "We use config file to connect to a workspace. The Azure ML workspace should be configured with computer cluster. [Check this notebook for configure a workspace](../../configuration.ipynb)"
      ]
    },
    {
      "cell_type": "code",
      "execution_count": null,
      "metadata": {
        "gather": {
          "logged": 1695994809327
        }
      },
      "outputs": [],
      "source": [
        "# Get a handle to workspace\n",
        "ml_client = MLClient.from_config(\n",
        "    credential=credential, \n",
        "    # tenant_id=\"16b3c013-d300-468d-ac64-7eda0820b6d3\", # needed to sepcify the tenant to make it work in my sub\n",
        "    )\n",
        "\n",
        "\n",
        "compute_instance_name = \"whalesdenoisinggpu2\"\n",
        "try:\n",
        "    print(ml_client.compute.get(compute_instance_name))\n",
        "except Exception as ex:\n",
        "    compute_instance = AmlCompute(\n",
        "        name=compute_instance_name,\n",
        "        type=\"amlcompute\",\n",
        "        size=\"Standard_NC24ads_A100_v4\",\n",
        "        # Minimum running nodes when there is no job running\n",
        "        min_instances=0,\n",
        "        # Nodes in cluster\n",
        "        max_instances=4,\n",
        "        # How many seconds will the node running after the job termination\n",
        "        idle_time_before_scale_down=180,\n",
        "        # Dedicated or LowPriority. The latter is cheaper but there is a chance of job termination\n",
        "        tier=\"Dedicated\",\n",
        "    )\n",
        "    ml_client.begin_create_or_update(compute_instance).result()\n",
        "    print(f\"Created new compute instance: {ml_client.compute.get(compute_instance_name)}\")"
      ]
    },
    {
      "cell_type": "markdown",
      "metadata": {},
      "source": [
        "## 1.4 Create a custom environment"
      ]
    },
    {
      "cell_type": "code",
      "execution_count": null,
      "metadata": {},
      "outputs": [],
      "source": [
        "custom_env_name = \"whales-denoising-env\"\n",
        "version = \"1.8\"\n",
        "dependencies_dir = \"./dependencies\"\n",
        "\n",
        "try:\n",
        "    pipeline_job_env = ml_client.environments.get(name=custom_env_name, version=version)\n",
        "    print(\n",
        "        f\"Environment with name {pipeline_job_env.name} is registered to workspace, the environment version is {pipeline_job_env.version}\"\n",
        "    )\n",
        "except:\n",
        "    pipeline_job_env = Environment(\n",
        "        name=custom_env_name,\n",
        "        description=\"Custom environment for running ORCA-CLEAN pipeline\",\n",
        "        conda_file=os.path.join(dependencies_dir, \"conda.yaml\"),\n",
        "        image=\"mcr.microsoft.com/azureml/curated/acpt-pytorch-2.0-cuda11.7:17\", #\"mcr.microsoft.com/azureml/openmpi3.1.2-cuda10.1-cudnn7-ubuntu18.04\", #\"mcr.microsoft.com/azureml/curated/acpt-pytorch-1.13-cuda11.7:18\",\n",
        "        version=version,\n",
        "    )\n",
        "\n",
        "    pipeline_job_env = ml_client.environments.create_or_update(pipeline_job_env)\n",
        "    print(\n",
        "        f\"Environment with name {pipeline_job_env.name} is registered to workspace, the environment version is {pipeline_job_env.version}\"\n",
        "    )"
      ]
    },
    {
      "cell_type": "markdown",
      "metadata": {},
      "source": [
        "## 1.5 Create the Data asset objects"
      ]
    },
    {
      "cell_type": "code",
      "execution_count": null,
      "metadata": {},
      "outputs": [],
      "source": [
        "whales_data_name = \"whales_data\"\n",
        "noise_train_data_name = \"noise_train_data\"\n",
        "noise_test_data_name = \"noise_test_data\"\n",
        "noise_val_data_name = \"noise_val_data\"\n",
        "version = \"2\""
      ]
    },
    {
      "cell_type": "code",
      "execution_count": null,
      "metadata": {},
      "outputs": [],
      "source": [
        "path = \"/mnt/humpbackwhales/data/denoising_data/whales_data_v2\"\n",
        "whales_data_name = \"whales_data\"\n",
        "\n",
        "try:\n",
        "    whales_data = ml_client.data.get(whales_data_name, version=version)\n",
        "except:\n",
        "    whales_data = Data(\n",
        "        path=path,\n",
        "        type=AssetTypes.URI_FOLDER,\n",
        "        description=\"whales vocalizations of all types: moans, barks, creaks, etc.\",\n",
        "        name=whales_data_name,\n",
        "        version=version,\n",
        "    )\n",
        "    ml_client.data.create_or_update(whales_data)"
      ]
    },
    {
      "cell_type": "code",
      "execution_count": null,
      "metadata": {},
      "outputs": [],
      "source": [
        "path = \"/mnt/humpbackwhales/data/denoising_data/noise_train_v2\"\n",
        "noise_train_data_name = \"noise_train_data\"\n",
        "\n",
        "try:\n",
        "    noise_train_data = ml_client.data.get(noise_train_data_name, version=version)\n",
        "except:\n",
        "    noise_train_data = Data(\n",
        "        path=path,\n",
        "        type=AssetTypes.URI_FOLDER,\n",
        "        description=\"5-sec segments of only-noise retrieved from raw hydrophone recordings\",\n",
        "        name=noise_train_data_name,\n",
        "        version=version,\n",
        "    )\n",
        "    ml_client.data.create_or_update(noise_train_data)"
      ]
    },
    {
      "cell_type": "code",
      "execution_count": null,
      "metadata": {},
      "outputs": [],
      "source": [
        "path = \"/mnt/humpbackwhales/data/denoising_data/noise_test_v2\"\n",
        "noise_test_data_name = \"noise_test_data\"\n",
        "\n",
        "try:\n",
        "    noise_test_data = ml_client.data.get(noise_test_data_name, version=version)\n",
        "except:\n",
        "    noise_test_data = Data(\n",
        "        path=path,\n",
        "        type=AssetTypes.URI_FOLDER,\n",
        "        description=\"5-sec segments of only-noise retrieved from raw hydrophone recordings\",\n",
        "        name=noise_test_data_name,\n",
        "        version=version,\n",
        "    )\n",
        "    ml_client.data.create_or_update(noise_test_data)"
      ]
    },
    {
      "cell_type": "code",
      "execution_count": null,
      "metadata": {},
      "outputs": [],
      "source": [
        "path = \"/mnt/humpbackwhales/data/denoising_data/noise_val_v2\"\n",
        "noise_val_data_name = \"noise_val_data\"\n",
        "\n",
        "try:\n",
        "    noise_val_data = ml_client.data.get(noise_val_data_name, version=version)\n",
        "except:\n",
        "    noise_val_data = Data(\n",
        "        path=path,\n",
        "        type=AssetTypes.URI_FOLDER,\n",
        "        description=\"5-sec segments of only-noise retrieved from raw hydrophone recordings\",\n",
        "        name=noise_val_data_name,\n",
        "        version=version,\n",
        "    )\n",
        "    ml_client.data.create_or_update(noise_val_data)"
      ]
    },
    {
      "cell_type": "code",
      "execution_count": null,
      "metadata": {},
      "outputs": [],
      "source": [
        "path = \"/mnt/humpbackwhales/denoising/outputs\"\n",
        "denoising_training_outputs_name = \"denoising_training_outputs\"\n",
        "\n",
        "try:\n",
        "    denoising_training_outputs = ml_client.data.get(denoising_training_outputs_name, version=version)\n",
        "except:\n",
        "    denoising_training_outputs = Data(\n",
        "        path=path,\n",
        "        type=AssetTypes.URI_FOLDER,\n",
        "        description=\"results of deep denoising network's training\",\n",
        "        name=denoising_training_outputs_name,\n",
        "        version=version,\n",
        "    )\n",
        "    ml_client.data.create_or_update(denoising_training_outputs)"
      ]
    },
    {
      "cell_type": "code",
      "execution_count": null,
      "metadata": {},
      "outputs": [],
      "source": [
        "default_datastore_name = \"workspaceblobstore\"  # workspaceblobstore, workspacefilestore"
      ]
    },
    {
      "cell_type": "markdown",
      "metadata": {},
      "source": [
        "# 2. Define and create components into workspace\n",
        "## 2.1 Load components from YAML"
      ]
    },
    {
      "cell_type": "code",
      "execution_count": null,
      "metadata": {},
      "outputs": [],
      "source": [
        "parent_dir = \".\"\n",
        "train_model = load_component(path=parent_dir + \"/train_model.yml\")\n",
        "#score_data = load_component(source=parent_dir + \"/score_data.yml\")\n",
        "#eval_model = load_component(source=parent_dir + \"/eval_model.yml\")"
      ]
    },
    {
      "cell_type": "markdown",
      "metadata": {},
      "source": [
        "## 2.2 Inspect loaded component"
      ]
    },
    {
      "cell_type": "markdown",
      "metadata": {},
      "source": [
        "# 3. Pipeline job\n",
        "## 3.1 Build pipeline"
      ]
    },
    {
      "cell_type": "code",
      "execution_count": null,
      "metadata": {},
      "outputs": [],
      "source": [
        "# Construct pipeline\n",
        "@pipeline()\n",
        "def pipeline_with_components_from_yaml(\n",
        "    whales_data_input,\n",
        "    noise_train_data_input,\n",
        "    noise_val_data_input,\n",
        "    noise_test_data_input,\n",
        "    training_outputs,\n",
        "    max_train_epochs,\n",
        "    \n",
        "):\n",
        "    \"\"\"Pipeline with components defined via yaml.\"\"\"\n",
        "    train_component = train_model(\n",
        "        whales_data=whales_data_input,\n",
        "        noise_train_data=noise_train_data_input,\n",
        "        noise_val_data=noise_val_data_input,\n",
        "        noise_test_data=noise_test_data_input,\n",
        "        max_train_epochs=max_train_epochs,\n",
        "        model_dir=\"models\",\n",
        "        log_dir=\"logs\",\n",
        "        checkpoint_dir=\"model_checkpoints\",\n",
        "        cache_dir=\"cache\",\n",
        "        summary_dir=\"summary\",\n",
        "    )\n",
        "    \n",
        "    #mounted_output_dir = \"azureml://datastores/workspaceblobstore/paths/azureml/denoising/ML_pipeline\"\n",
        "    \n",
        "    # train_component.outputs.model_dir = denoising_training_outputs.path + \"/models/\"\n",
        "    # train_component.outputs.log_dir = denoising_training_outputs.path + \"/logs/\"\n",
        "    # train_component.outputs.checkpoint_dir = denoising_training_outputs.path + \"/model_checkpoints/\"\n",
        "    # train_component.outputs.cache_dir = denoising_training_outputs.path + \"/cache/\"\n",
        "    # train_component.outputs.summary_dir = denoising_training_outputs.path + \"/summary/\"\n",
        "\n",
        "    train_component.inputs.model_dir = \"models\"\n",
        "    train_component.inputs.log_dir = \"logs\"\n",
        "    train_component.inputs.checkpoint_dir = \"model_checkpoints\"\n",
        "    train_component.inputs.cache_dir = \"cache\"\n",
        "    train_component.inputs.summary_dir = \"summary\"\n",
        "\n",
        "    train_component.outputs.training_output = Output(type=\"uri_folder\", path=training_outputs, mode=\"rw_mount\")\n",
        "\n",
        "whales_data_name = \"whales_data\"\n",
        "noise_train_data_name = \"noise_train_data\"\n",
        "noise_test_data_name = \"noise_test_data\"\n",
        "noise_val_data_name = \"noise_val_data\"\n",
        "\n",
        "pipeline_job = pipeline_with_components_from_yaml(\n",
        "    whales_data_input=Input(type=\"uri_folder\", path=whales_data.path),\n",
        "    noise_train_data_input=Input(type=\"uri_folder\", path=noise_train_data.path),\n",
        "    noise_val_data_input=Input(type=\"uri_folder\", path=noise_val_data.path),\n",
        "    noise_test_data_input=Input(type=\"uri_folder\", path=noise_test_data.path),\n",
        "    training_outputs=denoising_training_outputs.path,\n",
        "    max_train_epochs=2,\n",
        ")\n",
        "\n",
        "# set pipeline level compute\n",
        "pipeline_job.settings.default_compute = compute_instance_name"
      ]
    },
    {
      "cell_type": "code",
      "execution_count": null,
      "metadata": {},
      "outputs": [],
      "source": [
        "# Inspect built pipeline\n",
        "print(pipeline_job.outputs)"
      ]
    },
    {
      "cell_type": "markdown",
      "metadata": {},
      "source": [
        "## 3.2 Submit pipeline job"
      ]
    },
    {
      "cell_type": "code",
      "execution_count": null,
      "metadata": {},
      "outputs": [],
      "source": [
        "# Submit pipeline job to workspace\n",
        "pipeline_job = ml_client.jobs.create_or_update(\n",
        "    pipeline_job, experiment_name=\"whales_denoising\"\n",
        ")\n",
        "pipeline_job"
      ]
    },
    {
      "cell_type": "code",
      "execution_count": null,
      "metadata": {},
      "outputs": [],
      "source": [
        "# Wait until the job completes\n",
        "ml_client.jobs.stream(pipeline_job.name)"
      ]
    },
    {
      "cell_type": "markdown",
      "metadata": {},
      "source": [
        "## 3.3 Register a model"
      ]
    },
    {
      "cell_type": "code",
      "execution_count": null,
      "metadata": {},
      "outputs": [],
      "source": [
        "run_model = Model(\n",
        "    path=\"azureml://jobs/{}/outputs/artifacts/paths/model/\".format(pipeline_job.name),\n",
        "    name=\"orca-clean-model-v1\",\n",
        "    description=\"Model trained with 5 epochs, whales_data_v2 and noise_train/test/val_v2.\",\n",
        "    type=AssetTypes.MLFLOW_MODEL\n",
        ")\n",
        "\n",
        "ml_client.models.create_or_update(run_model)"
      ]
    },
    {
      "cell_type": "markdown",
      "metadata": {},
      "source": [
        "## 3.4 Create a batch endpoint"
      ]
    },
    {
      "cell_type": "code",
      "execution_count": null,
      "metadata": {},
      "outputs": [],
      "source": [
        "from azure.ai.ml.entities import BatchEndpoint, ModelBatchDeployment, PipelineComponentBatchDeployment\n",
        "\n",
        "endpoint_name=\"whales-denoising-batch\"\n",
        "\n",
        "endpoint = BatchEndpoint(\n",
        "    name=endpoint_name,\n",
        "    description=\"Endpoint for pipeline deployments\",\n",
        ")\n",
        "\n",
        "ml_client.batch_endpoints.begin_create_or_update(endpoint).result()\n",
        "\n",
        "endpoint = ml_client.batch_endpoints.get(name=endpoint_name)\n",
        "print(endpoint)"
      ]
    },
    {
      "cell_type": "markdown",
      "metadata": {},
      "source": [
        "## 3.5 Deploy the pipeline job"
      ]
    },
    {
      "cell_type": "code",
      "execution_count": null,
      "metadata": {},
      "outputs": [],
      "source": [
        "deployment = PipelineComponentBatchDeployment(\n",
        "    name=\"whales-denoising-batch-from-job\",\n",
        "    description=\"This deployment is created from a pipeline job.\",\n",
        "    endpoint_name=endpoint.name,\n",
        "    job_definition=pipeline_job,\n",
        "    settings={\n",
        "        \"default_compute\": compute_instance_name,\n",
        "        \"continue_on_step_failure\": False\n",
        "    }\n",
        ")"
      ]
    },
    {
      "cell_type": "code",
      "execution_count": null,
      "metadata": {},
      "outputs": [],
      "source": [
        "ml_client.batch_deployments.begin_create_or_update(deployment).result()"
      ]
    },
    {
      "cell_type": "code",
      "execution_count": null,
      "metadata": {},
      "outputs": [],
      "source": [
        "endpoint = ml_client.batch_endpoints.get(endpoint.name)\n",
        "endpoint.defaults.deployment_name = deployment.name\n",
        "ml_client.batch_endpoints.begin_create_or_update(endpoint).result()"
      ]
    },
    {
      "cell_type": "markdown",
      "metadata": {},
      "source": [
        "## 3.6 Test the deployment"
      ]
    },
    {
      "cell_type": "code",
      "execution_count": null,
      "metadata": {},
      "outputs": [],
      "source": [
        "job = ml_client.batch_endpoints.invoke(\n",
        "    endpoint_name=endpoint.name, \n",
        ")"
      ]
    },
    {
      "cell_type": "code",
      "execution_count": null,
      "metadata": {},
      "outputs": [],
      "source": [
        "ml_client.jobs.get(name=job.name)"
      ]
    },
    {
      "cell_type": "code",
      "execution_count": null,
      "metadata": {},
      "outputs": [],
      "source": []
    }
  ],
  "metadata": {
    "description": {
      "description": "Create pipeline with CommandComponents from local YAML file"
    },
    "kernel_info": {
      "name": "python310-sdkv2"
    },
    "kernelspec": {
      "display_name": "azureml_py310_sdkv2",
      "language": "python",
      "name": "python3"
    },
    "language_info": {
      "codemirror_mode": {
        "name": "ipython",
        "version": 3
      },
      "file_extension": ".py",
      "mimetype": "text/x-python",
      "name": "python",
      "nbconvert_exporter": "python",
      "pygments_lexer": "ipython3",
      "version": "3.10.4"
    },
    "microsoft": {
      "ms_spell_check": {
        "ms_spell_check_language": "en"
      }
    },
    "nteract": {
      "version": "nteract-front-end@1.0.0"
    }
  },
  "nbformat": 4,
  "nbformat_minor": 2
}

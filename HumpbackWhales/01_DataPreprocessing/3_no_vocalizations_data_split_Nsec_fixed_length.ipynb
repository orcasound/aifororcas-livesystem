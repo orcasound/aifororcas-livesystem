{
 "cells": [
  {
   "cell_type": "code",
   "execution_count": 29,
   "id": "cbb674a4",
   "metadata": {},
   "outputs": [],
   "source": [
    "#%pip install librosa"
   ]
  },
  {
   "cell_type": "code",
   "execution_count": 3,
   "id": "df80a201",
   "metadata": {},
   "outputs": [],
   "source": [
    "import os\n",
    "import librosa\n",
    "import soundfile as sf"
   ]
  },
  {
   "cell_type": "code",
   "execution_count": 4,
   "id": "8faf1062",
   "metadata": {},
   "outputs": [],
   "source": [
    "def list_folders(directory):\n",
    "    folders = []\n",
    "    with os.scandir(directory) as entries:\n",
    "        for entry in entries:\n",
    "            if entry.is_dir():\n",
    "                folders.append(entry.name)\n",
    "    return folders\n",
    "\n",
    "\n",
    "def list_files(directory, extension):\n",
    "    files = []\n",
    "    for name in os.listdir(directory):\n",
    "        if os.path.isfile(os.path.join(directory, name)):\n",
    "            if name.endswith(extension):\n",
    "                files.append(name)\n",
    "    return files"
   ]
  },
  {
   "cell_type": "code",
   "execution_count": 5,
   "id": "1c7cab22",
   "metadata": {},
   "outputs": [],
   "source": [
    "full_length_audio_files_path = \"/mnt/humpbackwhales/data/preprocessed/noise_sounds_full_length\"\n",
    "fixed_length_audio_files_path = \"/mnt/humpbackwhales/data/preprocessed/noise_sounds_5_sec\""
   ]
  },
  {
   "cell_type": "code",
   "execution_count": 7,
   "id": "7c186660",
   "metadata": {},
   "outputs": [],
   "source": [
    "if not os.path.exists(fixed_length_audio_files_path):\n",
    "    os.makedirs(fixed_length_audio_files_path)"
   ]
  },
  {
   "cell_type": "code",
   "execution_count": 6,
   "id": "5c14c0e9",
   "metadata": {},
   "outputs": [],
   "source": [
    "full_length_audio_filenames = list_files(full_length_audio_files_path, \".wav\")"
   ]
  },
  {
   "cell_type": "code",
   "execution_count": 8,
   "id": "8c96a520",
   "metadata": {},
   "outputs": [],
   "source": [
    "for audio_file_name in full_length_audio_filenames:\n",
    "    x, sr = librosa.load(f\"{full_length_audio_files_path}/{audio_file_name}\", sr=None)  # sr = None means that we use original sample rate\n",
    "    \n",
    "    num_samples_5_sec = 5 * sr\n",
    "\n",
    "    # calculate the total number of segments\n",
    "    total_segments = len(x) // num_samples_5_sec\n",
    "\n",
    "    for i in range(total_segments):\n",
    "        start_sample = i * num_samples_5_sec\n",
    "        end_sample = (i + 1) * num_samples_5_sec\n",
    "\n",
    "        segment = x[start_sample:end_sample]\n",
    "        output_filename = f\"{audio_file_name.split('.')[0]}_segment_{i}.wav\"\n",
    "        \n",
    "        sf.write(f\"{fixed_length_audio_files_path}/{output_filename}\", segment, sr)"
   ]
  },
  {
   "cell_type": "code",
   "execution_count": null,
   "id": "1af0dc6b",
   "metadata": {},
   "outputs": [],
   "source": []
  }
 ],
 "metadata": {
  "kernelspec": {
   "display_name": "Python 3.8 - Pytorch and Tensorflow",
   "language": "python",
   "name": "python38-azureml-pt-tf"
  },
  "language_info": {
   "codemirror_mode": {
    "name": "ipython",
    "version": 3
   },
   "file_extension": ".py",
   "mimetype": "text/x-python",
   "name": "python",
   "nbconvert_exporter": "python",
   "pygments_lexer": "ipython3",
   "version": "3.8.5"
  }
 },
 "nbformat": 4,
 "nbformat_minor": 5
}

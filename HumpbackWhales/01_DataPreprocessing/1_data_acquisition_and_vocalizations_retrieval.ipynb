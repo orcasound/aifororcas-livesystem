{
 "cells": [
  {
   "cell_type": "code",
   "execution_count": 9,
   "id": "cbb674a4",
   "metadata": {},
   "outputs": [],
   "source": [
    "# %pip install quilt3[pyarrow]==5.3.1\n",
    "# %pip install librosa\n",
    "# %pip install azure-storage-blob\n",
    "# %pip install python-dotenv"
   ]
  },
  {
   "cell_type": "code",
   "execution_count": 1,
   "id": "df80a201",
   "metadata": {},
   "outputs": [],
   "source": [
    "import os\n",
    "import quilt3\n",
    "import pandas as pd\n",
    "import numpy as np\n",
    "from dotenv import load_dotenv\n",
    "\n",
    "import librosa\n",
    "import soundfile as sf\n",
    "import functools\n",
    "\n",
    "from azure.storage.blob import BlobServiceClient\n",
    "\n",
    "import matplotlib.pyplot as plt\n",
    "\n",
    "import tqdm as notebook_tqdm"
   ]
  },
  {
   "cell_type": "code",
   "execution_count": 2,
   "id": "8faf1062",
   "metadata": {},
   "outputs": [],
   "source": [
    "def list_folders(directory):\n",
    "    folders = []\n",
    "    with os.scandir(directory) as entries:\n",
    "        for entry in entries:\n",
    "            if entry.is_dir():\n",
    "                folders.append(entry.name)\n",
    "    return folders\n",
    "\n",
    "\n",
    "def list_files(directory, extension):\n",
    "    files = []\n",
    "    for name in os.listdir(directory):\n",
    "        if os.path.isfile(os.path.join(directory, name)):\n",
    "            if name.endswith(extension):\n",
    "                files.append(name)\n",
    "    return files"
   ]
  },
  {
   "cell_type": "code",
   "execution_count": 3,
   "id": "8d5346c6",
   "metadata": {},
   "outputs": [],
   "source": [
    "FILESHARE_PATH = \"/mnt/humpbackwhales/\""
   ]
  },
  {
   "cell_type": "markdown",
   "id": "d0ac3a5a",
   "metadata": {},
   "source": [
    "# Download labeled data from Amazon S3"
   ]
  },
  {
   "cell_type": "code",
   "execution_count": 4,
   "id": "e50ead9e",
   "metadata": {},
   "outputs": [],
   "source": [
    "data_download_folder = f\"{FILESHARE_PATH}/data\"\n",
    "annotations_path = f\"{data_download_folder}/raw/annotations\"\n",
    "audio_path = f\"{data_download_folder}/raw/audio\"\n",
    "extracted_calls_path = f\"{data_download_folder}/preprocessed\"\n",
    "output_clean_annotations = f\"{FILESHARE_PATH}/data/preprocessed/annotations_clean.csv\""
   ]
  },
  {
   "cell_type": "code",
   "execution_count": 13,
   "id": "839ef892",
   "metadata": {},
   "outputs": [
    {
     "name": "stderr",
     "output_type": "stream",
     "text": [
      "100%|█████████████████████████████████████████████████████████████████████████████████████████████████████████████████████████████████████████████████████████████████████████████████████████████████████████████████████████████████████████████████████████████████████████████████████████████████████████████████████████████████████████████████████████████████████████████████████████████████████████████████████████████████████████████████████████████████████████████████████████████████████████████████████████████████████████████████████████████████████████████████████████████████████████████████████████████████████████████████████████████████████████████████████████████████████████████████████████████████████████████████████████████████████████████████████████████████████████████████████████████████████████████████████████████████████████████████████████████████████████████████████████████████████████████████████████████████████████████████████████████| 76.8k/76.8k [00:02<00:00, 26.8kB/s]\n",
      "100%|███████████████████████████████████████████████████████████████████████████████████████████████████████████████████████████████████████████████████████████████████████████████████████████████████████████████████████████████████████████████████████████████████████████████████████████████████████████████████████████████████████████████████████████████████████████████████████████████████████████████████████████████████████████████████████████████████████████████████████████████████████████████████████████████████████████████████████████████████████████████████████████████████████████████████████████████████████████████████████████████████████████████████████████████████████████████████████████████████████████████████████████████████████████████████████████████████████████████████████████████████████████████████████████████████████████████████████████████████████████████████████████████████████████████████████████████████████████████████████████████| 993M/993M [00:16<00:00, 61.8MB/s]\n"
     ]
    }
   ],
   "source": [
    "# connect to a public AWS S3 bucket\n",
    "b = quilt3.Bucket(\"s3://acoustic-sandbox\")\n",
    "\n",
    "# download annotation files\n",
    "b.fetch(\"humpbacks/Emily-Vierling-Orcasound-data/Em_HW_data/Annotations/\", f\"{data_download_folder}/raw/annotations/\")\n",
    "\n",
    "# download audio data\n",
    "b.fetch(\"humpbacks/Emily-Vierling-Orcasound-data/Em_HW_data/flac_files/\", f\"{data_download_folder}/raw/audio/\")"
   ]
  },
  {
   "cell_type": "code",
   "execution_count": 18,
   "id": "24b3c6fa",
   "metadata": {},
   "outputs": [],
   "source": [
    "isExist = os.path.exists(extracted_calls_path)\n",
    "if not isExist:\n",
    "    os.makedirs(extracted_calls_path)"
   ]
  },
  {
   "cell_type": "markdown",
   "id": "bacfe257",
   "metadata": {},
   "source": [
    "# Extract humpback whales vocalizations from raw audio files"
   ]
  },
  {
   "cell_type": "code",
   "execution_count": 5,
   "id": "4ff72ad2",
   "metadata": {},
   "outputs": [
    {
     "name": "stdout",
     "output_type": "stream",
     "text": [
      "OS_10_03_2021_19_34_00_.Table.1.selections.txt\n"
     ]
    },
    {
     "data": {
      "text/html": [
       "<div>\n",
       "<style scoped>\n",
       "    .dataframe tbody tr th:only-of-type {\n",
       "        vertical-align: middle;\n",
       "    }\n",
       "\n",
       "    .dataframe tbody tr th {\n",
       "        vertical-align: top;\n",
       "    }\n",
       "\n",
       "    .dataframe thead th {\n",
       "        text-align: right;\n",
       "    }\n",
       "</style>\n",
       "<table border=\"1\" class=\"dataframe\">\n",
       "  <thead>\n",
       "    <tr style=\"text-align: right;\">\n",
       "      <th></th>\n",
       "      <th>Selection</th>\n",
       "      <th>Begin Time (s)</th>\n",
       "      <th>End Time (s)</th>\n",
       "      <th>Low Freq (Hz)</th>\n",
       "      <th>High Freq (Hz)</th>\n",
       "      <th>Call Type</th>\n",
       "    </tr>\n",
       "  </thead>\n",
       "  <tbody>\n",
       "    <tr>\n",
       "      <th>0</th>\n",
       "      <td>1</td>\n",
       "      <td>1646.999571</td>\n",
       "      <td>1648.733984</td>\n",
       "      <td>628.263</td>\n",
       "      <td>1297.059</td>\n",
       "      <td>Ascending moan</td>\n",
       "    </tr>\n",
       "    <tr>\n",
       "      <th>1</th>\n",
       "      <td>2</td>\n",
       "      <td>1653.223452</td>\n",
       "      <td>1654.641001</td>\n",
       "      <td>749.862</td>\n",
       "      <td>1134.926</td>\n",
       "      <td>Moan</td>\n",
       "    </tr>\n",
       "    <tr>\n",
       "      <th>2</th>\n",
       "      <td>3</td>\n",
       "      <td>1659.862135</td>\n",
       "      <td>1660.595925</td>\n",
       "      <td>770.129</td>\n",
       "      <td>1033.594</td>\n",
       "      <td>Moan</td>\n",
       "    </tr>\n",
       "    <tr>\n",
       "      <th>3</th>\n",
       "      <td>4</td>\n",
       "      <td>1661.796673</td>\n",
       "      <td>1663.747887</td>\n",
       "      <td>283.732</td>\n",
       "      <td>709.329</td>\n",
       "      <td>Ascending moan</td>\n",
       "    </tr>\n",
       "    <tr>\n",
       "      <th>4</th>\n",
       "      <td>5</td>\n",
       "      <td>1678.344185</td>\n",
       "      <td>1680.262045</td>\n",
       "      <td>506.664</td>\n",
       "      <td>1013.327</td>\n",
       "      <td>Moan</td>\n",
       "    </tr>\n",
       "    <tr>\n",
       "      <th>5</th>\n",
       "      <td>6</td>\n",
       "      <td>1684.197828</td>\n",
       "      <td>1687.399820</td>\n",
       "      <td>303.998</td>\n",
       "      <td>1155.193</td>\n",
       "      <td>Descending moan</td>\n",
       "    </tr>\n",
       "    <tr>\n",
       "      <th>6</th>\n",
       "      <td>7</td>\n",
       "      <td>1689.378332</td>\n",
       "      <td>1689.628487</td>\n",
       "      <td>2229.320</td>\n",
       "      <td>2452.252</td>\n",
       "      <td>Chirp</td>\n",
       "    </tr>\n",
       "    <tr>\n",
       "      <th>7</th>\n",
       "      <td>8</td>\n",
       "      <td>1691.546347</td>\n",
       "      <td>1693.180698</td>\n",
       "      <td>709.329</td>\n",
       "      <td>1114.660</td>\n",
       "      <td>Ascending moan</td>\n",
       "    </tr>\n",
       "    <tr>\n",
       "      <th>8</th>\n",
       "      <td>9</td>\n",
       "      <td>1695.532161</td>\n",
       "      <td>1696.599492</td>\n",
       "      <td>162.132</td>\n",
       "      <td>466.131</td>\n",
       "      <td>Growl</td>\n",
       "    </tr>\n",
       "    <tr>\n",
       "      <th>9</th>\n",
       "      <td>10</td>\n",
       "      <td>1756.907157</td>\n",
       "      <td>1758.291352</td>\n",
       "      <td>729.596</td>\n",
       "      <td>993.061</td>\n",
       "      <td>Ascending moan</td>\n",
       "    </tr>\n",
       "  </tbody>\n",
       "</table>\n",
       "</div>"
      ],
      "text/plain": [
       "   Selection  Begin Time (s)  End Time (s)  Low Freq (Hz)  High Freq (Hz)  \\\n",
       "0          1     1646.999571   1648.733984        628.263        1297.059   \n",
       "1          2     1653.223452   1654.641001        749.862        1134.926   \n",
       "2          3     1659.862135   1660.595925        770.129        1033.594   \n",
       "3          4     1661.796673   1663.747887        283.732         709.329   \n",
       "4          5     1678.344185   1680.262045        506.664        1013.327   \n",
       "5          6     1684.197828   1687.399820        303.998        1155.193   \n",
       "6          7     1689.378332   1689.628487       2229.320        2452.252   \n",
       "7          8     1691.546347   1693.180698        709.329        1114.660   \n",
       "8          9     1695.532161   1696.599492        162.132         466.131   \n",
       "9         10     1756.907157   1758.291352        729.596         993.061   \n",
       "\n",
       "         Call Type  \n",
       "0   Ascending moan  \n",
       "1             Moan  \n",
       "2             Moan  \n",
       "3   Ascending moan  \n",
       "4             Moan  \n",
       "5  Descending moan  \n",
       "6            Chirp  \n",
       "7   Ascending moan  \n",
       "8            Growl  \n",
       "9   Ascending moan  "
      ]
     },
     "execution_count": 5,
     "metadata": {},
     "output_type": "execute_result"
    }
   ],
   "source": [
    "annotation_filenames = list_files(annotations_path, \".txt\")\n",
    "audio_filenames = list_files(audio_path, \".flac\")\n",
    "\n",
    "print(annotation_filenames[1])\n",
    "df = pd.read_csv(f\"{annotations_path}/{annotation_filenames[1]}\", sep=\"\\t\")\n",
    "df.head(10)"
   ]
  },
  {
   "cell_type": "code",
   "execution_count": 18,
   "id": "2233beb2",
   "metadata": {},
   "outputs": [
    {
     "data": {
      "text/plain": [
       "(16, 6)"
      ]
     },
     "execution_count": 18,
     "metadata": {},
     "output_type": "execute_result"
    }
   ],
   "source": [
    "df.shape"
   ]
  },
  {
   "cell_type": "code",
   "execution_count": 19,
   "id": "38d7bb72",
   "metadata": {},
   "outputs": [
    {
     "data": {
      "text/plain": [
       "['211026-133018-OS-humpback-47min-clip.Table.1.selections.txt',\n",
       " 'OS_10_03_2021_19_34_00_.Table.1.selections.txt',\n",
       " 'OS_10_28_2021_18_54_00_.Table.1.selections.txt',\n",
       " 'OS_10_28_2021_1900_HB.Table.1.selections.txt',\n",
       " 'OS_10_28_2021_19_24_00_.Table.1.selections.txt',\n",
       " 'OS_10_28_2021_19_55_00_.Table.1.selections.txt',\n",
       " 'OS_10_28_2021_20_25_00_HB.Table.1.selections.txt']"
      ]
     },
     "execution_count": 19,
     "metadata": {},
     "output_type": "execute_result"
    }
   ],
   "source": [
    "annotation_filenames"
   ]
  },
  {
   "cell_type": "code",
   "execution_count": 20,
   "id": "496cbd1b",
   "metadata": {},
   "outputs": [
    {
     "data": {
      "text/plain": [
       "['211026-133018-OS-humpback-47min-clip.flac',\n",
       " 'OS_10_03_2021_19_34_00_.flac',\n",
       " 'OS_10_28_2021_18_54_00_.flac',\n",
       " 'OS_10_28_2021_1900_HB.flac',\n",
       " 'OS_10_28_2021_19_24_00_.flac',\n",
       " 'OS_10_28_2021_19_55_00_.flac',\n",
       " 'OS_10_28_2021_20_25_00_HB.flac']"
      ]
     },
     "execution_count": 20,
     "metadata": {},
     "output_type": "execute_result"
    }
   ],
   "source": [
    "audio_filenames"
   ]
  },
  {
   "cell_type": "code",
   "execution_count": 21,
   "id": "0fba59c7",
   "metadata": {},
   "outputs": [
    {
     "data": {
      "text/plain": [
       "Call Type\n",
       "Ascending moan     4\n",
       "Descending moan    4\n",
       "Moan               3\n",
       "Whup               2\n",
       "Chirp              1\n",
       "Growl              1\n",
       "Piccalo            1\n",
       "Name: count, dtype: int64"
      ]
     },
     "execution_count": 21,
     "metadata": {},
     "output_type": "execute_result"
    }
   ],
   "source": [
    "df[\"Call Type\"].value_counts()"
   ]
  },
  {
   "cell_type": "code",
   "execution_count": 8,
   "id": "0fcaa4d7",
   "metadata": {},
   "outputs": [
    {
     "name": "stdout",
     "output_type": "stream",
     "text": [
      "Original sample rate of lossless recordings (*.flac): 44100\n"
     ]
    }
   ],
   "source": [
    "x, sr = librosa.load(f\"{audio_path}/{audio_filenames[0]}\", sr=None)\n",
    "print(f\"Original sample rate of lossless recordings (*.flac): {sr}\")"
   ]
  },
  {
   "cell_type": "code",
   "execution_count": 6,
   "id": "471d11d4",
   "metadata": {},
   "outputs": [],
   "source": [
    "def clean_calltype(series):\n",
    "    replacements = {\n",
    "        \"Asceding_moan\": \"Ascending_moan\", \"Ascening_moan\": \"Ascending_moan\",\n",
    "        \"Gunt\": \"Grunt\",\n",
    "        \"Chrip\": \"Chirp\",\n",
    "        \"whup\": \"Whup\", \"Whuo\": \"Whup\"\n",
    "    }\n",
    "    return series.str.replace(' ', '_').replace(replacements)      "
   ]
  },
  {
   "cell_type": "code",
   "execution_count": 10,
   "id": "8c96a520",
   "metadata": {},
   "outputs": [
    {
     "name": "stdout",
     "output_type": "stream",
     "text": [
      "Processing /mnt/humpbackwhales//data/raw/audio/211026-133018-OS-humpback-47min-clip.flac\n",
      "Processing /mnt/humpbackwhales//data/raw/audio/OS_10_03_2021_19_34_00_.flac\n",
      "Processing /mnt/humpbackwhales//data/raw/audio/OS_10_28_2021_18_54_00_.flac\n",
      "Processing /mnt/humpbackwhales//data/raw/audio/OS_10_28_2021_1900_HB.flac\n",
      "Processing /mnt/humpbackwhales//data/raw/audio/OS_10_28_2021_19_24_00_.flac\n",
      "Processing /mnt/humpbackwhales//data/raw/audio/OS_10_28_2021_19_55_00_.flac\n",
      "Processing /mnt/humpbackwhales//data/raw/audio/OS_10_28_2021_20_25_00_HB.flac\n"
     ]
    }
   ],
   "source": [
    "all_annotations = []\n",
    "for audio_file_name in audio_filenames:\n",
    "    x, sr = librosa.load(f\"{audio_path}/{audio_file_name}\", sr=None)  # sr = None means that we use original sample rate\n",
    "    print(f\"Processing {audio_path}/{audio_file_name}\")\n",
    "    annotation_file_name = audio_file_name.replace(\".flac\",\".Table.1.selections.txt\")\n",
    "    df = pd.read_csv(f\"{annotations_path}/{annotation_file_name}\", sep=\"\\t\")\n",
    "    # fix some misspellings of vocalization names\n",
    "    df[\"Call Type\"] = clean_calltype(df[\"Call Type\"])\n",
    "    for index, row in df.iterrows():\n",
    "        selection = row[\"Selection\"]\n",
    "        start_time = row[\"Begin Time (s)\"]\n",
    "        end_time = row[\"End Time (s)\"]\n",
    "        lowcut = row[\"Low Freq (Hz)\"]\n",
    "        highcut = row[\"High Freq (Hz)\"]\n",
    "        call_type = row[\"Call Type\"]\n",
    "        \n",
    "        # convert time to sample index\n",
    "        start_sample = librosa.time_to_samples(start_time, sr=sr)\n",
    "        end_sample = librosa.time_to_samples(end_time, sr=sr)\n",
    "\n",
    "        # extract the sample\n",
    "        extracted_sample = x[start_sample:end_sample]\n",
    "\n",
    "        # save the extracted sample to a new file\n",
    "        isExist = os.path.exists(f\"{extracted_calls_path}/{call_type}\")\n",
    "        if not isExist:\n",
    "            os.makedirs(f\"{extracted_calls_path}/{call_type}\")\n",
    "            \n",
    "        afn = audio_file_name.replace(\".flac\",\"\")\n",
    "            \n",
    "        path = f\"{extracted_calls_path}/{call_type}/{afn}_{selection}.wav\"\n",
    "        sf.write(path, extracted_sample, sr)\n",
    "\n",
    "    df['Filename'] = audio_file_name\n",
    "    all_annotations.append(df)"
   ]
  },
  {
   "cell_type": "code",
   "execution_count": 11,
   "id": "378c4950",
   "metadata": {},
   "outputs": [
    {
     "name": "stdout",
     "output_type": "stream",
     "text": [
      "Total records: 1514\n"
     ]
    },
    {
     "data": {
      "text/html": [
       "<div>\n",
       "<style scoped>\n",
       "    .dataframe tbody tr th:only-of-type {\n",
       "        vertical-align: middle;\n",
       "    }\n",
       "\n",
       "    .dataframe tbody tr th {\n",
       "        vertical-align: top;\n",
       "    }\n",
       "\n",
       "    .dataframe thead th {\n",
       "        text-align: right;\n",
       "    }\n",
       "</style>\n",
       "<table border=\"1\" class=\"dataframe\">\n",
       "  <thead>\n",
       "    <tr style=\"text-align: right;\">\n",
       "      <th></th>\n",
       "      <th>Selection</th>\n",
       "      <th>BeginTime</th>\n",
       "      <th>EndTime</th>\n",
       "      <th>LowFreq</th>\n",
       "      <th>HighFreq</th>\n",
       "      <th>CallType</th>\n",
       "      <th>Filename</th>\n",
       "      <th>Duration</th>\n",
       "    </tr>\n",
       "  </thead>\n",
       "  <tbody>\n",
       "    <tr>\n",
       "      <th>0</th>\n",
       "      <td>1</td>\n",
       "      <td>245.992197</td>\n",
       "      <td>247.366463</td>\n",
       "      <td>263.518</td>\n",
       "      <td>2845.995</td>\n",
       "      <td>Descending_moan</td>\n",
       "      <td>211026-133018-OS-humpback-47min-clip.flac</td>\n",
       "      <td>1.374266</td>\n",
       "    </tr>\n",
       "    <tr>\n",
       "      <th>1</th>\n",
       "      <td>2</td>\n",
       "      <td>253.276801</td>\n",
       "      <td>257.038976</td>\n",
       "      <td>263.518</td>\n",
       "      <td>1791.923</td>\n",
       "      <td>Descending_moan</td>\n",
       "      <td>211026-133018-OS-humpback-47min-clip.flac</td>\n",
       "      <td>3.762175</td>\n",
       "    </tr>\n",
       "    <tr>\n",
       "      <th>2</th>\n",
       "      <td>3</td>\n",
       "      <td>259.368406</td>\n",
       "      <td>259.836241</td>\n",
       "      <td>2898.699</td>\n",
       "      <td>3531.142</td>\n",
       "      <td>Whistle</td>\n",
       "      <td>211026-133018-OS-humpback-47min-clip.flac</td>\n",
       "      <td>0.467835</td>\n",
       "    </tr>\n",
       "    <tr>\n",
       "      <th>3</th>\n",
       "      <td>4</td>\n",
       "      <td>262.101362</td>\n",
       "      <td>264.849895</td>\n",
       "      <td>158.111</td>\n",
       "      <td>1844.626</td>\n",
       "      <td>Descending_moan</td>\n",
       "      <td>211026-133018-OS-humpback-47min-clip.flac</td>\n",
       "      <td>2.748532</td>\n",
       "    </tr>\n",
       "    <tr>\n",
       "      <th>4</th>\n",
       "      <td>5</td>\n",
       "      <td>266.721236</td>\n",
       "      <td>267.578934</td>\n",
       "      <td>1106.776</td>\n",
       "      <td>3056.809</td>\n",
       "      <td>Whistle</td>\n",
       "      <td>211026-133018-OS-humpback-47min-clip.flac</td>\n",
       "      <td>0.857698</td>\n",
       "    </tr>\n",
       "  </tbody>\n",
       "</table>\n",
       "</div>"
      ],
      "text/plain": [
       "   Selection   BeginTime     EndTime   LowFreq  HighFreq         CallType  \\\n",
       "0          1  245.992197  247.366463   263.518  2845.995  Descending_moan   \n",
       "1          2  253.276801  257.038976   263.518  1791.923  Descending_moan   \n",
       "2          3  259.368406  259.836241  2898.699  3531.142          Whistle   \n",
       "3          4  262.101362  264.849895   158.111  1844.626  Descending_moan   \n",
       "4          5  266.721236  267.578934  1106.776  3056.809          Whistle   \n",
       "\n",
       "                                    Filename  Duration  \n",
       "0  211026-133018-OS-humpback-47min-clip.flac  1.374266  \n",
       "1  211026-133018-OS-humpback-47min-clip.flac  3.762175  \n",
       "2  211026-133018-OS-humpback-47min-clip.flac  0.467835  \n",
       "3  211026-133018-OS-humpback-47min-clip.flac  2.748532  \n",
       "4  211026-133018-OS-humpback-47min-clip.flac  0.857698  "
      ]
     },
     "execution_count": 11,
     "metadata": {},
     "output_type": "execute_result"
    }
   ],
   "source": [
    "all_annotations_pd = pd.concat(all_annotations).rename(columns={\n",
    "    'Begin Time (s)': 'BeginTime', 'End Time (s)': 'EndTime',\n",
    "    'Low Freq (Hz)': 'LowFreq', 'High Freq (Hz)': 'HighFreq', 'Call Type': 'CallType'\n",
    "})\n",
    "\n",
    "print(f'Total records: {len(all_annotations_pd)}')\n",
    "\n",
    "all_annotations_pd['Duration'] = all_annotations_pd.EndTime - all_annotations_pd.BeginTime  # In seconds\n",
    "\n",
    "all_annotations_pd.head()"
   ]
  },
  {
   "cell_type": "code",
   "execution_count": 12,
   "id": "10c3eb8f",
   "metadata": {},
   "outputs": [],
   "source": [
    "all_annotations_pd.to_csv(output_clean_annotations, index=False)"
   ]
  },
  {
   "cell_type": "code",
   "execution_count": 18,
   "id": "d008ccef",
   "metadata": {},
   "outputs": [],
   "source": [
    "path = f\"{extracted_calls_path}/Ascending_moan\"\n",
    "len(list_files(path, \".wav\"))"
   ]
  },
  {
   "cell_type": "markdown",
   "id": "11ce1548",
   "metadata": {},
   "source": [
    "# Upload vocalization files into Azure Blob storage\n",
    "\n",
    "To upload audio files into Azure Blob Storage, create a file local.env with the following two lines: \n",
    "\n",
    "- AZURE_BLOB_CONNECTION_STRING = \"to becopied from Azure portal\"\n",
    "- AZURE_BLOB_CONTAINER_NAME = \"existing container in Blob storage where files should be uploaded, e.g. azureml\""
   ]
  },
  {
   "cell_type": "code",
   "execution_count": 105,
   "id": "85afdfba",
   "metadata": {},
   "outputs": [],
   "source": [
    "# load environment variables from local.env file\n",
    "load_dotenv(dotenv_path=\"local.env\")\n",
    "\n",
    "connection_string = os.getenv(\"AZURE_BLOB_CONNECTION_STRING\")\n",
    "container_name = os.getenv(\"AZURE_BLOB_CONTAINER_NAME\") # Name of container where files should be uploaded\n",
    "\n",
    "blob_service_client = BlobServiceClient.from_connection_string(connection_string)\n",
    "blob_container_client = blob_service_client.get_container_client(container_name)\n",
    "\n",
    "local_source_files_folder = data_download_folder\n",
    "\n",
    "for root, dirs, files in os.walk(local_source_files_folder):\n",
    "    for file in files:\n",
    "        file_path = os.path.join(root, file)\n",
    "        blob_name = os.path.relpath(file_path, local_source_files_folder).replace(\"\\\\\", \"/\")\n",
    "        blob_client = blob_container_client.get_blob_client(blob_name)\n",
    "        \n",
    "        with open(file_path, \"rb\") as data:\n",
    "            blob_client.upload_blob(data)"
   ]
  },
  {
   "cell_type": "code",
   "execution_count": null,
   "id": "89df0f37",
   "metadata": {},
   "outputs": [],
   "source": []
  }
 ],
 "metadata": {
  "kernelspec": {
   "display_name": "azureml_py38_PT_TF",
   "language": "python",
   "name": "python3"
  },
  "language_info": {
   "codemirror_mode": {
    "name": "ipython",
    "version": 3
   },
   "file_extension": ".py",
   "mimetype": "text/x-python",
   "name": "python",
   "nbconvert_exporter": "python",
   "pygments_lexer": "ipython3",
   "version": "3.8.5"
  }
 },
 "nbformat": 4,
 "nbformat_minor": 5
}

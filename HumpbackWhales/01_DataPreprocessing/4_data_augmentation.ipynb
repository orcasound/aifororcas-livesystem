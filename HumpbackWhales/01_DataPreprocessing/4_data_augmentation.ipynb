{
 "cells": [
  {
   "cell_type": "markdown",
   "metadata": {},
   "source": [
    "This notebook is designed to augment audio data by extracting both \"seconds of interest\" and background \"noise\" from audio files."
   ]
  },
  {
   "cell_type": "code",
   "execution_count": 1,
   "metadata": {},
   "outputs": [],
   "source": [
    "import os\n",
    "import scipy.signal as sp\n",
    "import pandas as pd\n",
    "import librosa\n",
    "import soundfile as sf\n",
    "import numpy as np\n",
    "\n",
    "def get_len_audio(audio, sample_rate):\n",
    "    # Calculate the total duration in seconds\n",
    "    total_seconds = len(audio) / float(sample_rate)\n",
    "    return total_seconds\n",
    "\n",
    "def get_relevant_window(x, df_ann):\n",
    "    return (np.min(np.abs(x[\"Start Time\"]- df_ann[\"BeginTime\"]))<final_audio_len) or (np.min(np.abs(x[\"End Time\"] - df_ann[\"EndTime\"]))>final_audio_len)"
   ]
  },
  {
   "cell_type": "code",
   "execution_count": 2,
   "metadata": {},
   "outputs": [],
   "source": [
    "def calculate_overlap(df_annotations, interval_start, interval_end, unique_labels):\n",
    "    mask = (\n",
    "        (df_annotations['BeginTime'] <= interval_end) & \n",
    "        (df_annotations['EndTime'] >= interval_start)\n",
    "    )\n",
    "    label_overlap_durations = (\n",
    "        pd.to_numeric(mask) * \n",
    "        (df_annotations['EndTime'].clip(upper=interval_end) - df_annotations['BeginTime'].clip(lower=interval_start))\n",
    "    )\n",
    "    label_counts = {\n",
    "        label: label_overlap_durations[df_annotations['CallType'] == label].sum()\n",
    "        for label in unique_labels\n",
    "    }\n",
    "    return [label_counts[label] for label in unique_labels]\n",
    "\n",
    "def get_overlap_summary(df_annotations, df_intervals, unique_labels):\n",
    "    \n",
    "    result_columns = ['BeginTime', 'EndTime'] + list(unique_labels)\n",
    "    result_df = pd.DataFrame(columns=result_columns)\n",
    "\n",
    "    for _, row_interval in df_intervals.iterrows():\n",
    "        interval_start = row_interval['Start Time']\n",
    "        interval_end = row_interval['End Time']\n",
    "\n",
    "        label_counts = calculate_overlap(df_annotations, interval_start, interval_end, unique_labels)\n",
    "        \n",
    "        result_row = [interval_start, interval_end] + label_counts\n",
    "        result_df.loc[len(result_df)] = result_row\n",
    "\n",
    "    return result_df.fillna(0)\n",
    "\n"
   ]
  },
  {
   "cell_type": "code",
   "execution_count": 3,
   "metadata": {},
   "outputs": [],
   "source": [
    "data_download_folder = \"/mnt/humpbackwhales/data\"\n",
    "annotations_path = f\"{data_download_folder}/preprocessed/annotations_clean.csv\"\n",
    "audio_path = f\"{data_download_folder}/raw/audio\"\n",
    "extracted_calls_path = f\"{data_download_folder}/preprocessed/data_augmentation\""
   ]
  },
  {
   "cell_type": "code",
   "execution_count": 4,
   "metadata": {},
   "outputs": [],
   "source": [
    "increment = 1 #sliding window size\n",
    "final_audio_len = 5 #total secs of a window\""
   ]
  },
  {
   "cell_type": "code",
   "execution_count": 5,
   "metadata": {},
   "outputs": [],
   "source": [
    "df_annotations = pd.read_csv(annotations_path)"
   ]
  },
  {
   "cell_type": "code",
   "execution_count": 6,
   "metadata": {},
   "outputs": [],
   "source": [
    "list_annotations = df_annotations[\"Filename\"].drop_duplicates().to_list()"
   ]
  },
  {
   "cell_type": "code",
   "execution_count": 7,
   "metadata": {
    "tags": []
   },
   "outputs": [
    {
     "name": "stdout",
     "output_type": "stream",
     "text": [
      "Processing file 211026-133018-OS-humpback-47min-clip.flac\n",
      "Total duration of /mnt/humpbackwhales/data/raw/audio/211026-133018-OS-humpback-47min-clip.flac: 2820.00 seconds\n",
      "Computing calltype percentage\n",
      "Processing file OS_10_03_2021_19_34_00_.flac\n",
      "Total duration of /mnt/humpbackwhales/data/raw/audio/OS_10_03_2021_19_34_00_.flac: 1800.32 seconds\n",
      "Computing calltype percentage\n",
      "Processing file OS_10_28_2021_18_54_00_.flac\n",
      "Total duration of /mnt/humpbackwhales/data/raw/audio/OS_10_28_2021_18_54_00_.flac: 1800.08 seconds\n",
      "Computing calltype percentage\n",
      "Processing file OS_10_28_2021_1900_HB.flac\n",
      "Total duration of /mnt/humpbackwhales/data/raw/audio/OS_10_28_2021_1900_HB.flac: 237.14 seconds\n",
      "Computing calltype percentage\n",
      "Processing file OS_10_28_2021_19_24_00_.flac\n",
      "Total duration of /mnt/humpbackwhales/data/raw/audio/OS_10_28_2021_19_24_00_.flac: 1800.08 seconds\n",
      "Computing calltype percentage\n",
      "Processing file OS_10_28_2021_19_55_00_.flac\n",
      "Total duration of /mnt/humpbackwhales/data/raw/audio/OS_10_28_2021_19_55_00_.flac: 1800.24 seconds\n",
      "Computing calltype percentage\n",
      "Processing file OS_10_28_2021_20_25_00_HB.flac\n",
      "Total duration of /mnt/humpbackwhales/data/raw/audio/OS_10_28_2021_20_25_00_HB.flac: 1800.20 seconds\n",
      "Computing calltype percentage\n"
     ]
    }
   ],
   "source": [
    "file_list = []\n",
    "for original_filename in list_annotations:\n",
    "    print(f\"Processing file {original_filename}\")\n",
    "    flac_file_path = f\"{audio_path}/{original_filename.replace('.txt', '.flac')}\"\n",
    "    audio, sample_rate = librosa.load(flac_file_path, sr=44100)\n",
    "    total_seconds = get_len_audio(audio, sample_rate)\n",
    "    print(f\"Total duration of {flac_file_path}: {total_seconds:.2f} seconds\")\n",
    "    \n",
    "    # Create lists for \"seconds start\" and \"seconds end\"\n",
    "    start = [i * increment for i in range(int((total_seconds-final_audio_len) // increment)+1)]\n",
    "    end = [(i + final_audio_len) if i + final_audio_len <= total_seconds else total_seconds for i in start]\n",
    "\n",
    "    # Create a DataFrame\n",
    "    df = pd.DataFrame({'Start Time': start, 'End Time': end})\n",
    "    \n",
    "    #consider only relevant annotations\n",
    "    df_annotations_subsample = df_annotations[df_annotations[\"Filename\"] == original_filename].copy()\n",
    "    \n",
    "    # define wich are relevant windows because contain the target sound\n",
    "    df[\"relevant_window\"] = df.apply(lambda x: get_relevant_window(x, df_annotations_subsample), axis=1)\n",
    "    df_subset = df[df[\"relevant_window\"]==True].copy()\n",
    "    \n",
    "    print(\"Computing calltype percentage\")\n",
    "    unique_labels = df_annotations_subsample[\"CallType\"].drop_duplicates().to_list()\n",
    "    if 'Unknown_1' in unique_labels:\n",
    "        unique_labels.remove('Unknown_1')\n",
    "        \n",
    "    result_df = get_overlap_summary(df_annotations_subsample, df_subset, unique_labels)\n",
    "    \n",
    "    result_df[\"different_labels\"] = (result_df!=0).iloc[:,2:].sum(axis=1)\n",
    "    result_df[\"interesting_seconds\"] = result_df.iloc[:,2:-1].sum(axis=1) \n",
    "    #Keeping only windows with 1 calltype and between 10% and 80% interesting sound\n",
    "    result_df[\"percentage\"] = (result_df[\"interesting_seconds\"]/final_audio_len)*100\n",
    "    result_df = result_df[(result_df[\"percentage\"]>= 10) & (result_df[\"percentage\"]<= 80) & (result_df[\"different_labels\"]== 1)].copy()\n",
    "    \n",
    "    #WRITE TO STORAGE\n",
    "    for calltype in unique_labels:\n",
    "        subset = result_df[result_df[calltype]!=0].copy()\n",
    "        for index, row in subset.iterrows():\n",
    "            start_time = row[\"BeginTime\"]\n",
    "            end_time = row[\"EndTime\"]\n",
    "            percentage = row[\"percentage\"]\n",
    "\n",
    "            # Convert time to sample index\n",
    "            start_sample = librosa.time_to_samples(start_time, sr=sample_rate)\n",
    "            end_sample = librosa.time_to_samples(end_time, sr=sample_rate)\n",
    "\n",
    "            # Extract the sample\n",
    "            extracted_sample = audio[start_sample:end_sample]\n",
    "\n",
    "            # Save the extracted sample to a new file\n",
    "            isExist = os.path.exists(f\"{extracted_calls_path}\")\n",
    "            if not isExist:\n",
    "                os.makedirs(f\"{extracted_calls_path}\")\n",
    "            \n",
    "            filename = f\"{extracted_calls_path}/{original_filename.split('.')[0]}_5secs_{round(start_time)}start_{calltype}_{round(percentage)}perc.wav\"\n",
    "            file_list.append(filename)\n",
    "            sf.write(filename, extracted_sample, sample_rate)"
   ]
  },
  {
   "cell_type": "code",
   "execution_count": 8,
   "metadata": {
    "tags": []
   },
   "outputs": [
    {
     "name": "stdout",
     "output_type": "stream",
     "text": [
      "Total size of '838.28 MB'\n"
     ]
    }
   ],
   "source": [
    "import os\n",
    "\n",
    "def get_folder_size(folder_path):\n",
    "    total_size = 0\n",
    "\n",
    "    # Walk through all the files and subdirectories in the given folder\n",
    "    for dirpath, dirnames, filenames in os.walk(folder_path):\n",
    "        for filename in filenames:\n",
    "            file_path = os.path.join(dirpath, filename)\n",
    "            total_size += os.path.getsize(file_path)\n",
    "\n",
    "    # Convert the size to a human-readable format\n",
    "    return convert_bytes(total_size)\n",
    "\n",
    "def convert_bytes(bytes):\n",
    "    # Function to convert bytes to a human-readable format (e.g., KB, MB, GB, etc.)\n",
    "    for unit in ['B', 'KB', 'MB', 'GB', 'TB']:\n",
    "        if bytes < 1024.0:\n",
    "            break\n",
    "        bytes /= 1024.0\n",
    "    return f\"{bytes:.2f} {unit}\"\n",
    "\n",
    "if __name__ == \"__main__\":\n",
    "    folder_path = f\"{extracted_calls_path}\"  # Replace with the path to your folder\n",
    "    folder_size = get_folder_size(folder_path)\n",
    "    print(f\"Total size of '{folder_size}'\")\n"
   ]
  },
  {
   "cell_type": "code",
   "execution_count": null,
   "metadata": {},
   "outputs": [],
   "source": []
  }
 ],
 "metadata": {
  "kernelspec": {
   "display_name": "Python 3 (ipykernel)",
   "language": "python",
   "name": "python3"
  },
  "language_info": {
   "codemirror_mode": {
    "name": "ipython",
    "version": 3
   },
   "file_extension": ".py",
   "mimetype": "text/x-python",
   "name": "python",
   "nbconvert_exporter": "python",
   "pygments_lexer": "ipython3",
   "version": "3.8.5"
  }
 },
 "nbformat": 4,
 "nbformat_minor": 4
}
